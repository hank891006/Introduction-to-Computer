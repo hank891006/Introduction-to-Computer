{
  "nbformat": 4,
  "nbformat_minor": 0,
  "metadata": {
    "colab": {
      "provenance": [],
      "authorship_tag": "ABX9TyPT1+OvXG+iE4/khqK6HLim",
      "include_colab_link": true
    },
    "kernelspec": {
      "name": "python3",
      "display_name": "Python 3"
    },
    "language_info": {
      "name": "python"
    }
  },
  "cells": [
    {
      "cell_type": "markdown",
      "metadata": {
        "id": "view-in-github",
        "colab_type": "text"
      },
      "source": [
        "<a href=\"https://colab.research.google.com/github/hank891006/Introduction-to-Computer/blob/main/0529.ipynb\" target=\"_parent\"><img src=\"https://colab.research.google.com/assets/colab-badge.svg\" alt=\"Open In Colab\"/></a>"
      ]
    },
    {
      "cell_type": "code",
      "execution_count": 5,
      "metadata": {
        "colab": {
          "base_uri": "https://localhost:8080/"
        },
        "id": "vUKlIEkld5hZ",
        "outputId": "cff9f018-7111-4942-94a5-03505c97f48d"
      },
      "outputs": [
        {
          "output_type": "stream",
          "name": "stdout",
          "text": [
            "請輸入一個正整數: 5\n",
            "生成的數列為:  [1, 2, 3, 4, 5]\n"
          ]
        }
      ],
      "source": [
        "def generate_sequence():\n",
        "\n",
        "    num = int(input(\"請輸入一個正整數: \"))\n",
        "\n",
        "    sequence = list(range(1, num + 1))\n",
        "\n",
        "    print(\"生成的數列為: \", sequence)\n",
        "\n",
        "\n",
        "generate_sequence()\n"
      ]
    },
    {
      "cell_type": "code",
      "source": [
        "def generate_sequence():\n",
        "\n",
        "    num = int(input(\"請輸入一個正整數: \"))\n",
        "\n",
        "    sequence = list(range(1, num + 1))\n",
        "\n",
        "    print(\"生成的數列為: \", sequence)\n",
        "\n",
        "\n",
        "generate_sequence()"
      ],
      "metadata": {
        "colab": {
          "base_uri": "https://localhost:8080/"
        },
        "id": "5Pzz8IQReLsH",
        "outputId": "341d3c52-0f2a-4947-b926-67d6529696c9"
      },
      "execution_count": 6,
      "outputs": [
        {
          "output_type": "stream",
          "name": "stdout",
          "text": [
            "請輸入一個正整數: 12\n",
            "生成的數列為:  [1, 2, 3, 4, 5, 6, 7, 8, 9, 10, 11, 12]\n"
          ]
        }
      ]
    },
    {
      "cell_type": "code",
      "source": [
        "def calculate_sum(n):\n",
        "    if n <= 0:\n",
        "        return \"Input should be a positive integer\"\n",
        "\n",
        "    total_sum = sum(range(1, n + 1))\n",
        "    return total_sum\n",
        "\n",
        "\n",
        "n = int(input(\"請輸入一個正整數: \"))\n",
        "\n",
        "result = calculate_sum(n)\n",
        "print(result)\n"
      ],
      "metadata": {
        "colab": {
          "base_uri": "https://localhost:8080/"
        },
        "id": "bY9XV5p8esAk",
        "outputId": "016a2a16-d0fc-40be-88e2-8f481379ba6a"
      },
      "execution_count": 9,
      "outputs": [
        {
          "output_type": "stream",
          "name": "stdout",
          "text": [
            "請輸入一個正整數: 10\n",
            "55\n"
          ]
        }
      ]
    },
    {
      "cell_type": "code",
      "source": [
        "def calculate_sum(n):\n",
        "    if n <= 0:\n",
        "        return \"Input should be a positive integer\"\n",
        "\n",
        "    total_sum = sum(range(1, n + 1))\n",
        "    return total_sum\n",
        "\n",
        "\n",
        "n = int(input(\"請輸入一個正整數: \"))\n",
        "\n",
        "result = calculate_sum(n)\n",
        "print(result)"
      ],
      "metadata": {
        "colab": {
          "base_uri": "https://localhost:8080/"
        },
        "id": "cd1Bj3Kue3Lc",
        "outputId": "67913f38-6464-416e-a240-c769ffaea48c"
      },
      "execution_count": 10,
      "outputs": [
        {
          "output_type": "stream",
          "name": "stdout",
          "text": [
            "請輸入一個正整數: 50\n",
            "1275\n"
          ]
        }
      ]
    },
    {
      "cell_type": "code",
      "source": [
        "def generate_sum_sequence():\n",
        "\n",
        "    num = int(input(\"請輸入一個正整數: \"))\n",
        "\n",
        "    total_sum = 0\n",
        "\n",
        "    for i in range(1, num + 1):\n",
        "        total_sum += i\n",
        "        print(f\"從 1 加到 {i} 的累積和為: {total_sum}\")\n",
        "\n",
        "\n",
        "generate_sum_sequence()\n",
        "\n"
      ],
      "metadata": {
        "colab": {
          "base_uri": "https://localhost:8080/"
        },
        "id": "Bm5INIYtfG4u",
        "outputId": "5277de6b-db61-4885-c1e3-7598fffd959b"
      },
      "execution_count": 12,
      "outputs": [
        {
          "output_type": "stream",
          "name": "stdout",
          "text": [
            "請輸入一個正整數: 10\n",
            "從 1 加到 1 的累積和為: 1\n",
            "從 1 加到 2 的累積和為: 3\n",
            "從 1 加到 3 的累積和為: 6\n",
            "從 1 加到 4 的累積和為: 10\n",
            "從 1 加到 5 的累積和為: 15\n",
            "從 1 加到 6 的累積和為: 21\n",
            "從 1 加到 7 的累積和為: 28\n",
            "從 1 加到 8 的累積和為: 36\n",
            "從 1 加到 9 的累積和為: 45\n",
            "從 1 加到 10 的累積和為: 55\n"
          ]
        }
      ]
    },
    {
      "cell_type": "code",
      "source": [],
      "metadata": {
        "id": "PdFqhNo-fao4"
      },
      "execution_count": null,
      "outputs": []
    }
  ]
}