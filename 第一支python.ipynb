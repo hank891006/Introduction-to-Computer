{
  "nbformat": 4,
  "nbformat_minor": 0,
  "metadata": {
    "colab": {
      "provenance": [],
      "authorship_tag": "ABX9TyNCLzxzbUgI6TDzvyu/DMFR",
      "include_colab_link": true
    },
    "kernelspec": {
      "name": "python3",
      "display_name": "Python 3"
    },
    "language_info": {
      "name": "python"
    }
  },
  "cells": [
    {
      "cell_type": "markdown",
      "metadata": {
        "id": "view-in-github",
        "colab_type": "text"
      },
      "source": [
        "<a href=\"https://colab.research.google.com/github/hank891006/Introduction-to-Computer/blob/main/%E7%AC%AC%E4%B8%80%E6%94%AFpython.ipynb\" target=\"_parent\"><img src=\"https://colab.research.google.com/assets/colab-badge.svg\" alt=\"Open In Colab\"/></a>"
      ]
    },
    {
      "cell_type": "code",
      "execution_count": null,
      "metadata": {
        "id": "B2RXBO-UWCPo"
      },
      "outputs": [],
      "source": [
        "i=10"
      ]
    },
    {
      "cell_type": "code",
      "source": [
        "i+=5"
      ],
      "metadata": {
        "id": "CgNbJQcLWFWN"
      },
      "execution_count": null,
      "outputs": []
    },
    {
      "cell_type": "code",
      "source": [
        "str1 = \"PeiYu說: 'Hey,你好！'\"\n",
        "str2 = 'PeiYu說: \"Hey,你好！\"'\n",
        "\n",
        "print(str1)\n",
        "print(str2)\n",
        "\n"
      ],
      "metadata": {
        "id": "E4ZoTksBWKjj",
        "colab": {
          "base_uri": "https://localhost:8080/"
        },
        "outputId": "7eb21a16-b262-4505-8294-563207aa8be6"
      },
      "execution_count": 1,
      "outputs": [
        {
          "output_type": "stream",
          "name": "stdout",
          "text": [
            "PeiYu說: 'Hey,你好！'\n",
            "PeiYu說: \"Hey,你好！\"\n"
          ]
        }
      ]
    },
    {
      "cell_type": "code",
      "source": [
        "print(\"‘午安_同學好_打起精神來!!!’\")\n",
        "print(\"'下午好,平安順心,健康如意^^'\")\n"
      ],
      "metadata": {
        "colab": {
          "base_uri": "https://localhost:8080/"
        },
        "id": "5Ke-p07uxcOW",
        "outputId": "3767b9a8-3aad-43c1-a739-4bf6cba41433"
      },
      "execution_count": 2,
      "outputs": [
        {
          "output_type": "stream",
          "name": "stdout",
          "text": [
            "‘午安_同學好_打起精神來!!!’\n",
            "'下午好,平安順心,健康如意^^'\n"
          ]
        }
      ]
    },
    {
      "cell_type": "code",
      "source": [
        "\n",
        "chinese = int(input(\"請輸入國文成績: \"))\n",
        "\n",
        "english = int(input(\"請輸入英文成績: \"))\n",
        "\n",
        "math = int(input(\"請輸入數學成績: \"))\n",
        "\n",
        "\n",
        "total_score = chinese, english, math\n",
        "\n",
        "\n",
        "print(f\"三科成績總和: {total_score}\")\n",
        "\n"
      ],
      "metadata": {
        "colab": {
          "base_uri": "https://localhost:8080/"
        },
        "id": "ncra3VuHxrir",
        "outputId": "043a7577-0445-482a-d155-a34925dbaa1c"
      },
      "execution_count": 4,
      "outputs": [
        {
          "output_type": "stream",
          "name": "stdout",
          "text": [
            "請輸入國文成績: 50\n",
            "請輸入英文成績: 60\n",
            "請輸入數學成績: 70\n",
            "三科成績總和: (50, 60, 70)\n"
          ]
        }
      ]
    },
    {
      "cell_type": "code",
      "source": [
        "60"
      ],
      "metadata": {
        "id": "tff8eoqXx5Ff"
      },
      "execution_count": null,
      "outputs": []
    },
    {
      "cell_type": "code",
      "source": [
        "print(\"hi\")"
      ],
      "metadata": {
        "colab": {
          "base_uri": "https://localhost:8080/"
        },
        "id": "JWD5O77cyI_H",
        "outputId": "b3472682-b8db-4fc1-9c0a-e06ef5700cd1"
      },
      "execution_count": 5,
      "outputs": [
        {
          "output_type": "stream",
          "name": "stdout",
          "text": [
            "hi\n"
          ]
        }
      ]
    },
    {
      "cell_type": "code",
      "source": [
        "print(\"my name is hank\")"
      ],
      "metadata": {
        "colab": {
          "base_uri": "https://localhost:8080/"
        },
        "id": "-Y3TdO1_yLvI",
        "outputId": "dcb41fbf-300b-41e0-842d-708bdc10c332"
      },
      "execution_count": 6,
      "outputs": [
        {
          "output_type": "stream",
          "name": "stdout",
          "text": [
            "my name is hank\n"
          ]
        }
      ]
    },
    {
      "cell_type": "code",
      "source": [
        "print(\"老師可以讓我過麻 拜託 我很認真寫了!!\")"
      ],
      "metadata": {
        "colab": {
          "base_uri": "https://localhost:8080/"
        },
        "id": "WYZkNEStyO5M",
        "outputId": "e9464069-695c-4510-90ab-1b8313e6ef42"
      },
      "execution_count": 7,
      "outputs": [
        {
          "output_type": "stream",
          "name": "stdout",
          "text": [
            "老師可以讓我過麻 拜託 我很認真寫了!!\n"
          ]
        }
      ]
    },
    {
      "cell_type": "code",
      "source": [
        "print(\"我找不到相關的檔案，但是第一周應該都是print 再麻煩助教了 感恩您!!!\")"
      ],
      "metadata": {
        "colab": {
          "base_uri": "https://localhost:8080/"
        },
        "id": "uJCaG-YsyT2K",
        "outputId": "049e5ada-fc50-44bc-fe01-7633c464cc25"
      },
      "execution_count": 8,
      "outputs": [
        {
          "output_type": "stream",
          "name": "stdout",
          "text": [
            "我找不到相關的檔案，但是第一周應該都是print 再麻煩助教了 感恩您!!!\n"
          ]
        }
      ]
    },
    {
      "cell_type": "code",
      "source": [],
      "metadata": {
        "id": "8ydBEA7MyhXf"
      },
      "execution_count": null,
      "outputs": []
    }
  ]
}