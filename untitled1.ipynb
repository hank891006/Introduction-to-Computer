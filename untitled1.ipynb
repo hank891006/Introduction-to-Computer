{
  "nbformat": 4,
  "nbformat_minor": 0,
  "metadata": {
    "colab": {
      "provenance": [],
      "authorship_tag": "ABX9TyNjbGxcdi3iwR2g6Fj9w46H",
      "include_colab_link": true
    },
    "kernelspec": {
      "name": "python3",
      "display_name": "Python 3"
    },
    "language_info": {
      "name": "python"
    }
  },
  "cells": [
    {
      "cell_type": "markdown",
      "metadata": {
        "id": "view-in-github",
        "colab_type": "text"
      },
      "source": [
        "<a href=\"https://colab.research.google.com/github/hank891006/Introduction-to-Computer/blob/main/untitled1.ipynb\" target=\"_parent\"><img src=\"https://colab.research.google.com/assets/colab-badge.svg\" alt=\"Open In Colab\"/></a>"
      ]
    },
    {
      "cell_type": "code",
      "execution_count": null,
      "metadata": {
        "id": "M95EiI2vDSwH",
        "colab": {
          "base_uri": "https://localhost:8080/"
        },
        "outputId": "b6e429ff-c504-4638-d883-fa72226e2d11"
      },
      "outputs": [
        {
          "output_type": "stream",
          "name": "stdout",
          "text": [
            "請輸入溫度:37.5\n",
            "體溫過高!\n"
          ]
        }
      ],
      "source": [
        "temperature=input(\"請輸入溫度:\")\n",
        "if float(temperature) >= 37.5:\n",
        "  print(\"體溫過高!\")\n",
        "elif float(temperature) >= 37:\n",
        "  print(\"體溫略高!\")\n",
        "elif float(temperature) >= 34:\n",
        "  print(\"體溫正常!\")\n",
        "else:\n",
        "    print(\"體溫異常，請重新量測!\")"
      ]
    },
    {
      "cell_type": "code",
      "source": [
        "temperature=input(\"請輸入溫度:\")\n",
        "if float(temperature) >= 37.5:\n",
        "  print(\"體溫過高!\")\n",
        "elif float(temperature) >= 37:\n",
        "  print(\"體溫略高!\")\n",
        "elif float(temperature) >= 34:\n",
        "  print(\"體溫正常!\")\n",
        "else:\n",
        "    print(\"體溫異常，請重新量測!\")\n"
      ],
      "metadata": {
        "colab": {
          "base_uri": "https://localhost:8080/"
        },
        "id": "nqqrSQoeFJ42",
        "outputId": "7cabd82b-bf47-47b7-951b-f46d7ed750e2"
      },
      "execution_count": null,
      "outputs": [
        {
          "output_type": "stream",
          "name": "stdout",
          "text": [
            "請輸入溫度:36.9\n",
            "體溫正常!\n"
          ]
        }
      ]
    },
    {
      "cell_type": "code",
      "source": [
        "score=input(\"請輸入成績\")\n",
        "if int(score) >= 90:\n",
        "  print(\"A\")\n",
        "elif int(score) >= 80:\n",
        "  print(\"B\")\n",
        "elif int(score) >= 70:\n",
        "  print(\"C\")\n",
        "elif int(score) >=60:\n",
        "  print(\"D\")\n",
        "else:\n",
        "    print(\"F\")"
      ],
      "metadata": {
        "colab": {
          "base_uri": "https://localhost:8080/"
        },
        "id": "7Jp03bvCLDPh",
        "outputId": "51e9f599-82ea-4c27-8a6f-fe13d5e3835d"
      },
      "execution_count": null,
      "outputs": [
        {
          "output_type": "stream",
          "name": "stdout",
          "text": [
            "請輸入成績90\n",
            "A\n"
          ]
        }
      ]
    },
    {
      "cell_type": "code",
      "source": [
        "score=input(\"請輸入成績\")\n",
        "if int(score) >= 90:\n",
        "  print(\"A\")\n",
        "elif int(score) >= 80:\n",
        "  print(\"B\")\n",
        "elif int(score) >= 70:\n",
        "  print(\"C\")\n",
        "elif int(score) >=60:\n",
        "  print(\"D\")\n",
        "else:\n",
        "    print(\"F\")"
      ],
      "metadata": {
        "colab": {
          "base_uri": "https://localhost:8080/"
        },
        "id": "FxjEGQZxNbiq",
        "outputId": "aa8ddcbb-1305-439f-c00d-7aed18d0f7c0"
      },
      "execution_count": null,
      "outputs": [
        {
          "output_type": "stream",
          "name": "stdout",
          "text": [
            "請輸入成績80\n",
            "B\n"
          ]
        }
      ]
    },
    {
      "cell_type": "code",
      "source": [
        "score=input(\"請輸入成績\")\n",
        "if int(score) >= 90:\n",
        "  print(\"A\")\n",
        "elif int(score) >= 80:\n",
        "  print(\"B\")\n",
        "elif int(score) >= 70:\n",
        "  print(\"C\")\n",
        "elif int(score) >=60:\n",
        "  print(\"D\")\n",
        "else:\n",
        "    print(\"F\")"
      ],
      "metadata": {
        "colab": {
          "base_uri": "https://localhost:8080/"
        },
        "id": "mUqufKBgN1nZ",
        "outputId": "6a0fa69d-8ddc-4333-be8f-75b8f8432d92"
      },
      "execution_count": null,
      "outputs": [
        {
          "output_type": "stream",
          "name": "stdout",
          "text": [
            "請輸入成績50\n",
            "F\n"
          ]
        }
      ]
    },
    {
      "cell_type": "code",
      "source": [
        "month=input(\"請輸入月份\")\n",
        "if int(month) >= 3 and int(month) <= 5:\n",
        "  print(\"是春天\")\n",
        "elif int(month) >= 6 and int(month) <= 8:\n",
        "  print(\"是夏天\")\n",
        "elif int(month) >= 9 and int(month) <= 11:\n",
        "  print(\"是秋天\")\n",
        "elif int(month) == 12 or int(month) <= 2:\n",
        "  print(\"是冬天\")\n",
        "else:\n",
        "    print(\"月份不在範圍內\")"
      ],
      "metadata": {
        "id": "tMCX3oCON9mc",
        "colab": {
          "base_uri": "https://localhost:8080/"
        },
        "outputId": "da944277-7293-4d83-edd5-d4773cace7e5"
      },
      "execution_count": null,
      "outputs": [
        {
          "output_type": "stream",
          "name": "stdout",
          "text": [
            "請輸入月份3\n",
            "是春天\n"
          ]
        }
      ]
    },
    {
      "cell_type": "code",
      "source": [
        "month=input(\"請輸入月份\")\n",
        "if int(month) >= 3 and int(month) <= 5:\n",
        "  print(\"是春天\")\n",
        "elif int(month) >= 6 and int(month) <= 8:\n",
        "  print(\"是夏天\")\n",
        "elif int(month) >= 9 and int(month) <= 11:\n",
        "  print(\"是秋天\")\n",
        "elif int(month) == 12 or int(month) <= 2:\n",
        "  print(\"是冬天\")\n",
        "else:\n",
        "    print(\"月份不在範圍內\")"
      ],
      "metadata": {
        "id": "OuTZUlqDP-EU",
        "colab": {
          "base_uri": "https://localhost:8080/"
        },
        "outputId": "1c01f6ed-d006-4cb0-89ca-5fd904fe3e23"
      },
      "execution_count": null,
      "outputs": [
        {
          "output_type": "stream",
          "name": "stdout",
          "text": [
            "請輸入月份7\n",
            "是夏天\n"
          ]
        }
      ]
    },
    {
      "cell_type": "code",
      "source": [],
      "metadata": {
        "id": "3VurshdCQnvL"
      },
      "execution_count": null,
      "outputs": []
    }
  ]
}