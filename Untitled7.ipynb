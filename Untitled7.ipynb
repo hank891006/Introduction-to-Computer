{
  "nbformat": 4,
  "nbformat_minor": 0,
  "metadata": {
    "colab": {
      "provenance": [],
      "authorship_tag": "ABX9TyOjNomLR5VpA47+gLRUXmHw",
      "include_colab_link": true
    },
    "kernelspec": {
      "name": "python3",
      "display_name": "Python 3"
    },
    "language_info": {
      "name": "python"
    }
  },
  "cells": [
    {
      "cell_type": "markdown",
      "metadata": {
        "id": "view-in-github",
        "colab_type": "text"
      },
      "source": [
        "<a href=\"https://colab.research.google.com/github/hank891006/Introduction-to-Computer/blob/main/Untitled7.ipynb\" target=\"_parent\"><img src=\"https://colab.research.google.com/assets/colab-badge.svg\" alt=\"Open In Colab\"/></a>"
      ]
    },
    {
      "cell_type": "code",
      "execution_count": 4,
      "metadata": {
        "colab": {
          "base_uri": "https://localhost:8080/"
        },
        "id": "81LpmF2_a0OL",
        "outputId": "06c1ae44-6398-42ed-b0a6-f7deff290cec"
      },
      "outputs": [
        {
          "name": "stdout",
          "output_type": "stream",
          "text": [
            "請輸入密碼: 1111\n"
          ]
        }
      ],
      "source": [
        "def verify_password():\n",
        "    correct_password = \"1234\"\n",
        "\n",
        "    password = input(\"請輸入密碼: \")\n",
        "\n",
        "    if password == correct_password:\n",
        "        print(\"歡迎光臨！\")\n",
        "\n",
        "verify_password()\n",
        "\n"
      ]
    },
    {
      "cell_type": "code",
      "source": [
        "def verify_password():\n",
        "    correct_password = \"1234\"\n",
        "\n",
        "    password = input(\"請輸入密碼: \")\n",
        "\n",
        "    if password == correct_password:\n",
        "        print(\"歡迎光臨！\")\n",
        "\n",
        "verify_password()"
      ],
      "metadata": {
        "colab": {
          "base_uri": "https://localhost:8080/"
        },
        "id": "_tTn261LdTQ9",
        "outputId": "80e0fa9f-37cc-44a4-92e2-2cbaf090906f"
      },
      "execution_count": 10,
      "outputs": [
        {
          "output_type": "stream",
          "name": "stdout",
          "text": [
            "請輸入密碼: 1234\n",
            "歡迎光臨！\n"
          ]
        }
      ]
    },
    {
      "cell_type": "code",
      "source": [
        "def verify_password():\n",
        "    correct_password = \"1234\"\n",
        "\n",
        "    password = input(\"請輸入密碼: \")\n",
        "\n",
        "    if password == correct_password:\n",
        "        print(\"歡迎光臨！\")\n",
        "    else:\n",
        "        print(\"密碼錯誤！\")\n",
        "\n",
        "verify_password()\n",
        "\n"
      ],
      "metadata": {
        "colab": {
          "base_uri": "https://localhost:8080/"
        },
        "id": "z1TBZhJBbRxC",
        "outputId": "706bbf4f-c9f3-4f6d-d8f9-2939186f4e99"
      },
      "execution_count": 5,
      "outputs": [
        {
          "output_type": "stream",
          "name": "stdout",
          "text": [
            "請輸入密碼: 1111\n",
            "密碼錯誤！\n"
          ]
        }
      ]
    },
    {
      "cell_type": "code",
      "source": [
        "def verify_password():\n",
        "    correct_password = \"1234\"\n",
        "\n",
        "    password = input(\"請輸入密碼: \")\n",
        "\n",
        "    if password == correct_password:\n",
        "        print(\"歡迎光臨！\")\n",
        "    else:\n",
        "        print(\"密碼錯誤！\")\n",
        "\n",
        "verify_password()"
      ],
      "metadata": {
        "colab": {
          "base_uri": "https://localhost:8080/"
        },
        "id": "PmJlHgU4dZAg",
        "outputId": "58f834cf-e70a-40e5-d23f-30b696333d43"
      },
      "execution_count": 11,
      "outputs": [
        {
          "output_type": "stream",
          "name": "stdout",
          "text": [
            "請輸入密碼: 1234\n",
            "歡迎光臨！\n"
          ]
        }
      ]
    },
    {
      "cell_type": "code",
      "source": [
        "num = int(input(\"請輸入正整數: \"))\n",
        "\n",
        "if num >= 0:\n",
        "    if num % 2 == 0:\n",
        "        print(f\"{num}  為偶數!\")\n",
        "    else:\n",
        "        print(f\"{num}  為基數!\")\n",
        "else:\n",
        "    print(\"Input Error\")\n"
      ],
      "metadata": {
        "colab": {
          "base_uri": "https://localhost:8080/"
        },
        "id": "PTkpU0DvcU5-",
        "outputId": "120a26c2-259c-4fb5-addf-26b0d7a62c0d"
      },
      "execution_count": 9,
      "outputs": [
        {
          "output_type": "stream",
          "name": "stdout",
          "text": [
            "請輸入正整數: 50\n",
            "50  為偶數!\n"
          ]
        }
      ]
    },
    {
      "cell_type": "code",
      "source": [
        "num = int(input(\"請輸入正整數: \"))\n",
        "\n",
        "if num >= 0:\n",
        "    if num % 2 == 0:\n",
        "        print(f\"{num}  為偶數!\")\n",
        "    else:\n",
        "        print(f\"{num}  為基數!\")\n",
        "else:\n",
        "    print(\"Input Error\")\n"
      ],
      "metadata": {
        "colab": {
          "base_uri": "https://localhost:8080/"
        },
        "id": "53ooui5Lc2Br",
        "outputId": "6a4cddd8-c673-498a-9d6d-eca8247314f2"
      },
      "execution_count": 12,
      "outputs": [
        {
          "output_type": "stream",
          "name": "stdout",
          "text": [
            "請輸入正整數: 51\n",
            "51  為基數!\n"
          ]
        }
      ]
    },
    {
      "cell_type": "code",
      "source": [],
      "metadata": {
        "id": "7CLpH0sCde2h"
      },
      "execution_count": 12,
      "outputs": []
    }
  ]
}